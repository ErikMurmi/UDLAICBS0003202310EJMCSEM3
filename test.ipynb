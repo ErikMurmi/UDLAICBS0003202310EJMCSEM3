{
 "cells": [
  {
   "cell_type": "code",
   "execution_count": 12,
   "metadata": {},
   "outputs": [
    {
     "name": "stderr",
     "output_type": "stream",
     "text": [
      "Traceback (most recent call last):\n",
      "  File \"c:\\Users\\erikm\\Documents\\U\\Analisis de datos\\ImplementacionBodega\\Python\\services\\etls.py\", line 7, in getNewLoadId\n",
      "    connection=Db_Connection()\n",
      "AttributeError: 'Db_Connection' object has no attribute 'execute'\n"
     ]
    }
   ],
   "source": [
    "from services.etls import getNewLoadId\n",
    "\n",
    "getNewLoadId()"
   ]
  },
  {
   "cell_type": "code",
   "execution_count": 3,
   "metadata": {},
   "outputs": [
    {
     "data": {
      "text/plain": [
       "<sqlalchemy.engine.cursor.LegacyCursorResult at 0x2a7a8e4bfd0>"
      ]
     },
     "execution_count": 3,
     "metadata": {},
     "output_type": "execute_result"
    }
   ],
   "source": [
    "from util.db_connection import Db_Connection\n",
    "connection=Db_Connection()\n",
    "db = connection.start()\n",
    "db.execute('INSERT INTO etl_hist values ()')"
   ]
  },
  {
   "cell_type": "code",
   "execution_count": 13,
   "metadata": {},
   "outputs": [
    {
     "name": "stderr",
     "output_type": "stream",
     "text": [
      "Traceback (most recent call last):\n",
      "  File \"c:\\Users\\erikm\\Documents\\U\\Analisis de datos\\ImplementacionBodega\\Python\\services\\etls.py\", line 7, in getNewLoadId\n",
      "    connection=Db_Connection()\n",
      "AttributeError: 'Db_Connection' object has no attribute 'execute'\n"
     ]
    }
   ],
   "source": [
    "getNewLoadId()"
   ]
  },
  {
   "cell_type": "code",
   "execution_count": 4,
   "metadata": {},
   "outputs": [
    {
     "data": {
      "text/plain": [
       "1"
      ]
     },
     "execution_count": 4,
     "metadata": {},
     "output_type": "execute_result"
    }
   ],
   "source": [
    "from services.etls import getNewLoadId\n",
    "getNewLoadId()"
   ]
  },
  {
   "cell_type": "code",
   "execution_count": 1,
   "metadata": {},
   "outputs": [],
   "source": [
    "from util.db_connection import Db_Connection\n",
    "connection=Db_Connection()\n",
    "db = connection.start()\n",
    "db.execute('INSERT INTO etl_hist values ()')\n",
    "load = db.execute('SELECT load_id  FROM etl_hist ORDER BY load_id DESC').scalar()"
   ]
  },
  {
   "cell_type": "code",
   "execution_count": 6,
   "metadata": {},
   "outputs": [
    {
     "data": {
      "text/plain": [
       "120612"
      ]
     },
     "execution_count": 6,
     "metadata": {},
     "output_type": "execute_result"
    }
   ],
   "source": [
    "from datetime import datetime\n",
    "def date_for_fk(date_str):\n",
    "    return int(datetime.strptime(date_str,'%d-%b-%y').strftime('%d%m%y'))\n",
    "date_for_fk('12-JUN-12')"
   ]
  },
  {
   "cell_type": "code",
   "execution_count": null,
   "metadata": {},
   "outputs": [],
   "source": []
  }
 ],
 "metadata": {
  "kernelspec": {
   "display_name": "Python 3.10.5 64-bit",
   "language": "python",
   "name": "python3"
  },
  "language_info": {
   "codemirror_mode": {
    "name": "ipython",
    "version": 3
   },
   "file_extension": ".py",
   "mimetype": "text/x-python",
   "name": "python",
   "nbconvert_exporter": "python",
   "pygments_lexer": "ipython3",
   "version": "3.10.5"
  },
  "orig_nbformat": 4,
  "vscode": {
   "interpreter": {
    "hash": "d4a811d5ac078233afb31e03e369e37491729ef21c8e6253c2c4b1b285997043"
   }
  }
 },
 "nbformat": 4,
 "nbformat_minor": 2
}
